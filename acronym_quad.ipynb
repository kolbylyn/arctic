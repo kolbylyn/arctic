{
 "cells": [
  {
   "cell_type": "markdown",
   "metadata": {},
   "source": [
    "# ARCTIC automatic reductions\n",
    "Kolby Weisenburger\n",
    "\n",
    "March 2016"
   ]
  },
  {
   "cell_type": "code",
   "execution_count": 1,
   "metadata": {
    "collapsed": true
   },
   "outputs": [],
   "source": [
    "import astropy.io.fits as pyfits\n",
    "import numpy as np\n",
    "import matplotlib.pyplot as plt\n",
    "import pyfits\n",
    "import pylab\n",
    "import os\n",
    "import re\n",
    "import pandas as pd\n",
    "#import pointarray\n",
    "plt.rcParams['axes.color_cycle'] = ['#2c1e3e','#3a5476','#57839e','#7eb1bc','#b0d9d6']\n",
    "%matplotlib inline\n",
    "plt.rcParams[\"figure.figsize\"] = [10,10]"
   ]
  },
  {
   "cell_type": "code",
   "execution_count": 2,
   "metadata": {
    "collapsed": false
   },
   "outputs": [],
   "source": [
    "files = [f for f in os.listdir('.') \n",
    "         if os.path.isfile(f) if f.endswith(\".fits\")]"
   ]
  },
  {
   "cell_type": "code",
   "execution_count": 3,
   "metadata": {
    "collapsed": false
   },
   "outputs": [],
   "source": [
    "if not os.path.exists('./reduced2/cals'):\n",
    "    os.makedirs('./reduced2/cals')\n",
    "if not os.path.exists('./reduced2/data'):\n",
    "    os.makedirs('./reduced2/data')"
   ]
  },
  {
   "cell_type": "code",
   "execution_count": 4,
   "metadata": {
    "collapsed": false
   },
   "outputs": [],
   "source": [
    "df = pd.DataFrame(files,columns=['fname'])\n",
    "df['objtype'] = pd.Series(\"\", index=df.index)\n",
    "df['filt'] = pd.Series(\"\", index=df.index)\n",
    "df['exp'] = pd.Series(\"\", index=df.index)\n",
    "df['objname'] = pd.Series(\"\", index=df.index)"
   ]
  },
  {
   "cell_type": "code",
   "execution_count": 5,
   "metadata": {
    "collapsed": false
   },
   "outputs": [
    {
     "name": "stdout",
     "output_type": "stream",
     "text": [
      "File corrupt, empty or missing: sextansb_V_300.0012.fits\n"
     ]
    }
   ],
   "source": [
    "for ff,fname in enumerate(files):\n",
    "    try:\n",
    "        df['objtype'][ff] = pyfits.open(fname)[0].header['IMAGETYP']\n",
    "        df['filt'][ff] = pyfits.open(fname)[0].header['FILTER']\n",
    "        df['exp'][ff] = pyfits.open(fname)[0].header['EXPTIME']\n",
    "        df['objname'][ff] = pyfits.open(fname)[0].header['OBJNAME']\n",
    "    except IOError:    \n",
    "        print('File corrupt, empty or missing: ' + fname)"
   ]
  },
  {
   "cell_type": "code",
   "execution_count": 6,
   "metadata": {
    "collapsed": false
   },
   "outputs": [],
   "source": [
    "def trim_image(f):\n",
    "    datfile = pyfits.getdata(f, header=True)\n",
    "    dat_raw = datfile[0]\n",
    "    dat_head = datfile[1]\n",
    "    \n",
    "    amp = pyfits.open(f)[0].header['READAMPS']\n",
    "    \n",
    "    if amp == \"Quad\":\n",
    "        # ll, ul, lr, ur\n",
    "        quads = ['DSEC11', 'DSEC21', 'DSEC12', 'DSEC22']\n",
    "\n",
    "        dat = [[],[],[],[]]\n",
    "        for i,quad in enumerate(quads):\n",
    "            idx_string = pyfits.open(f)[0].header[quad]\n",
    "            idx = re.split('[: ,]',idx_string.rstrip(']').lstrip('['))\n",
    "            dat[i] = dat_raw[int(idx[2]):int(idx[3]),int(idx[0]):int(idx[1])]\n",
    "    \n",
    "        sci_lo = np.concatenate((dat[2], dat[3]), axis = 1)\n",
    "        sci_up = np.concatenate((dat[0], dat[1]), axis = 1)\n",
    "        sci = np.concatenate((sci_up, sci_lo), axis = 0)\n",
    "    \n",
    "    if amp == 'LL':\n",
    "        idx_string = pyfits.open(f)[0].header['DSEC11']\n",
    "        idx = re.split('[: ,]',idx_string.rstrip(']').lstrip('['))\n",
    "        sci = dat_raw[int(idx[2]):int(idx[3]),int(idx[0]):int(idx[1])]\n",
    "    \n",
    "    return [sci,dat_head]"
   ]
  },
  {
   "cell_type": "code",
   "execution_count": null,
   "metadata": {
    "collapsed": true
   },
   "outputs": [],
   "source": []
  },
  {
   "cell_type": "code",
   "execution_count": null,
   "metadata": {
    "collapsed": true
   },
   "outputs": [],
   "source": []
  },
  {
   "cell_type": "code",
   "execution_count": null,
   "metadata": {
    "collapsed": true
   },
   "outputs": [],
   "source": []
  },
  {
   "cell_type": "code",
   "execution_count": 7,
   "metadata": {
    "collapsed": false
   },
   "outputs": [],
   "source": [
    "### CREATE MASTER BIAS #######################################\n",
    "\n",
    "bias_idx = df[df['objtype'] == 'Bias'].index.tolist()\n",
    "biases = np.array([trim_image(df['fname'][n])[0] for n in bias_idx])\n",
    "\n",
    "bias = np.median(biases,axis=0)\n",
    "pyfits.writeto('./reduced2/cals/master_bias.fits',bias,clobber=True)"
   ]
  },
  {
   "cell_type": "code",
   "execution_count": null,
   "metadata": {
    "collapsed": false
   },
   "outputs": [],
   "source": []
  },
  {
   "cell_type": "code",
   "execution_count": 10,
   "metadata": {
    "collapsed": false
   },
   "outputs": [
    {
     "name": "stderr",
     "output_type": "stream",
     "text": [
      "/Applications/ureka/variants/common/lib/python2.7/site-packages/pyfits/file.py:372: UserWarning: Overwriting existing file './reduced2/cals/master_dark_120.0.fits'.\n",
      "  warnings.warn(\"Overwriting existing file %r.\" % self.name)\n",
      "/Applications/ureka/variants/common/lib/python2.7/site-packages/pyfits/file.py:372: UserWarning: Overwriting existing file './reduced2/cals/master_dark_30.0.fits'.\n",
      "  warnings.warn(\"Overwriting existing file %r.\" % self.name)\n",
      "/Applications/ureka/variants/common/lib/python2.7/site-packages/pyfits/file.py:372: UserWarning: Overwriting existing file './reduced2/cals/master_dark_5.0.fits'.\n",
      "  warnings.warn(\"Overwriting existing file %r.\" % self.name)\n",
      "/Applications/ureka/variants/common/lib/python2.7/site-packages/pyfits/file.py:372: UserWarning: Overwriting existing file './reduced2/cals/master_dark_300.0.fits'.\n",
      "  warnings.warn(\"Overwriting existing file %r.\" % self.name)\n",
      "/Applications/ureka/variants/common/lib/python2.7/site-packages/pyfits/file.py:372: UserWarning: Overwriting existing file './reduced2/cals/master_dark_60.0.fits'.\n",
      "  warnings.warn(\"Overwriting existing file %r.\" % self.name)\n"
     ]
    }
   ],
   "source": [
    "### CREATE MASTER DARKS ######################################\n",
    "### these are bias subtracted\n",
    "\n",
    "dark_flag = 1\n",
    "\n",
    "times = pd.unique(df.exp.ravel())\n",
    "\n",
    "for ii in range(0,len(times)):\n",
    "    dark_idx = df[(df['exp'] == times[ii]) & \n",
    "                (df['objtype'] == 'Dark')].index.tolist()\n",
    "    if len(dark_idx) == 0:\n",
    "        dark_flag = 0\n",
    "        continue\n",
    "      \n",
    "    #print [(df['fname'][n]) for n in dark_idx]\n",
    "    darks = np.array([trim_image(df['fname'][n])[0] for n in dark_idx]) - bias\n",
    "    dark_final = np.median(darks,axis=0)\n",
    "    \n",
    "    name = './reduced2/cals/master_dark_'+str(times[ii])+'.fits'\n",
    "    pyfits.writeto(name,dark_final,clobber=True)"
   ]
  },
  {
   "cell_type": "code",
   "execution_count": 12,
   "metadata": {
    "collapsed": true
   },
   "outputs": [],
   "source": [
    "dark_flag =1"
   ]
  },
  {
   "cell_type": "code",
   "execution_count": 13,
   "metadata": {
    "collapsed": false
   },
   "outputs": [
    {
     "name": "stderr",
     "output_type": "stream",
     "text": [
      "ERROR: ValueError: operands could not be broadcast together with shapes (3,2048,2100) (2047,2047)  [IPython.core.interactiveshell]\n",
      "ERROR:astropy:ValueError: operands could not be broadcast together with shapes (3,2048,2100) (2047,2047) \n"
     ]
    },
    {
     "ename": "ValueError",
     "evalue": "operands could not be broadcast together with shapes (3,2048,2100) (2047,2047) ",
     "output_type": "error",
     "traceback": [
      "\u001b[0;31m---------------------------------------------------------------------------\u001b[0m",
      "\u001b[0;31mValueError\u001b[0m                                Traceback (most recent call last)",
      "\u001b[0;32m<ipython-input-13-bfc9df9466ec>\u001b[0m in \u001b[0;36m<module>\u001b[0;34m()\u001b[0m\n\u001b[1;32m     21\u001b[0m             \u001b[0mdark\u001b[0m \u001b[0;34m*=\u001b[0m \u001b[0;34m(\u001b[0m\u001b[0mexpt\u001b[0m\u001b[0;34m/\u001b[0m\u001b[0mscaleto\u001b[0m\u001b[0;34m)\u001b[0m\u001b[0;34m\u001b[0m\u001b[0m\n\u001b[1;32m     22\u001b[0m \u001b[0;34m\u001b[0m\u001b[0m\n\u001b[0;32m---> 23\u001b[0;31m         \u001b[0mflats\u001b[0m \u001b[0;34m=\u001b[0m \u001b[0mnp\u001b[0m\u001b[0;34m.\u001b[0m\u001b[0marray\u001b[0m\u001b[0;34m(\u001b[0m\u001b[0;34m[\u001b[0m\u001b[0mpyfits\u001b[0m\u001b[0;34m.\u001b[0m\u001b[0mgetdata\u001b[0m\u001b[0;34m(\u001b[0m\u001b[0mdf\u001b[0m\u001b[0;34m[\u001b[0m\u001b[0;34m'fname'\u001b[0m\u001b[0;34m]\u001b[0m\u001b[0;34m[\u001b[0m\u001b[0mn\u001b[0m\u001b[0;34m]\u001b[0m\u001b[0;34m)\u001b[0m \u001b[0;32mfor\u001b[0m \u001b[0mn\u001b[0m \u001b[0;32min\u001b[0m \u001b[0mflat_idx\u001b[0m\u001b[0;34m]\u001b[0m\u001b[0;34m)\u001b[0m \u001b[0;34m-\u001b[0m \u001b[0mbias\u001b[0m \u001b[0;34m-\u001b[0m \u001b[0mdark\u001b[0m\u001b[0;34m\u001b[0m\u001b[0m\n\u001b[0m\u001b[1;32m     24\u001b[0m     \u001b[0;32melse\u001b[0m\u001b[0;34m:\u001b[0m\u001b[0;34m\u001b[0m\u001b[0m\n\u001b[1;32m     25\u001b[0m         \u001b[0;31m#flats = np.array([pyfits.getdata(df['fname'][n]) for n in flat_idx]) - bias #quad#- dark\u001b[0m\u001b[0;34m\u001b[0m\u001b[0;34m\u001b[0m\u001b[0m\n",
      "\u001b[0;31mValueError\u001b[0m: operands could not be broadcast together with shapes (3,2048,2100) (2047,2047) "
     ]
    }
   ],
   "source": [
    "### CREATE MASTER FLATS ######################################\n",
    "### these are bias and dark subtracted then normalized\n",
    "\n",
    "filters = pd.unique(df.filt.ravel())\n",
    "\n",
    "for ii in range(0,len(filters)):\n",
    "    flat_idx = df[(df['filt'] == filters[ii]) & \n",
    "                   (df['objtype'] == 'Flat')].index.tolist()\n",
    "    if len(flat_idx) == 0:\n",
    "        continue\n",
    "        \n",
    "    # get the correct master dark (if using darks). if not exact exp time, \n",
    "    # scale it from the longest dark frame\n",
    "    if dark_flag == 1:\n",
    "        expt = df['exp'][flat_idx[0]]\n",
    "        try:\n",
    "            dark = pyfits.getdata('./reduced/cals/master_dark_'+str(expt)+'.fits')\n",
    "        except IOError:\n",
    "            scaleto = np.max(df['exp'])\n",
    "            dark = pyfits.getdata('./reduced/cals/master_dark_'+str(scaleto)+'.fits')\n",
    "            dark *= (expt/scaleto)\n",
    "    \n",
    "        flats = np.array([pyfits.getdata(df['fname'][n]) for n in flat_idx]) - bias - dark\n",
    "    else:\n",
    "        #flats = np.array([pyfits.getdata(df['fname'][n]) for n in flat_idx]) - bias #quad#- dark\n",
    "        flats = np.array([trim_image(df['fname'][n])[0] for n in flat_idx]) - bias - dark\n",
    "\n",
    "    \n",
    "    flat_final = np.median(flats,axis=0)\n",
    "    flat_final /= np.max(flat_final)\n",
    "\n",
    "    filts = filters[ii][-1]\n",
    "    name = './reduced2/cals/master_flat_'+filts+'.fits'\n",
    "    pyfits.writeto(name,flat_final,clobber=True)"
   ]
  },
  {
   "cell_type": "code",
   "execution_count": 107,
   "metadata": {
    "collapsed": false
   },
   "outputs": [],
   "source": [
    "### REDUCE SCIENCE IMAGES ####################################\n",
    "# (science_raw - dark) / masterflat\n",
    "\n",
    "dat_idx = df[df['objtype'] == 'Object'].index.tolist()\n",
    "\n",
    "for n in dat_idx:\n",
    "    \n",
    "    datfile = trim_image(df['fname'][n])\n",
    "    dat_raw = datfile[0]\n",
    "    dat_head = datfile[1]\n",
    "    \n",
    "    filt = (df['filt'][n])[-1]\n",
    "    flat = pyfits.getdata('./reduced/cals/master_flat_'+str(filt)+'.fits')\n",
    "    \n",
    "    if dark_flag == 1:\n",
    "        time = df['exp'][n]\n",
    "        dark = pyfits.getdata('./reduced/cals/master_dark_'+str(time)+'.fits')\n",
    "        dat = (dat_raw - dark) / flat\n",
    "    else:\n",
    "        dat = dat_raw / flat\n",
    "    \n",
    "    name = './reduced/data/red_'+df['fname'][n]\n",
    "    pyfits.writeto(name,dat,clobber=True,header=dat_head)"
   ]
  },
  {
   "cell_type": "code",
   "execution_count": null,
   "metadata": {
    "collapsed": true
   },
   "outputs": [],
   "source": []
  }
 ],
 "metadata": {
  "kernelspec": {
   "display_name": "Python 2",
   "language": "python",
   "name": "python2"
  },
  "language_info": {
   "codemirror_mode": {
    "name": "ipython",
    "version": 2
   },
   "file_extension": ".py",
   "mimetype": "text/x-python",
   "name": "python",
   "nbconvert_exporter": "python",
   "pygments_lexer": "ipython2",
   "version": "2.7.5"
  }
 },
 "nbformat": 4,
 "nbformat_minor": 0
}
